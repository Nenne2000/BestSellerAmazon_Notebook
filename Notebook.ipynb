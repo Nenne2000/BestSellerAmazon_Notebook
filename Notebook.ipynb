{
 "cells": [
  {
   "cell_type": "code",
   "execution_count": 1,
   "id": "492a75b1",
   "metadata": {},
   "outputs": [],
   "source": [
    "import pandas as pd \n",
    "import matplotlib.pyplot as plt \n",
    "import numpy as np\n",
    "import seaborn as sns\n",
    "from sklearn import metrics\n",
    "from sklearn.model_selection import train_test_split\n",
    "from sklearn.linear_model import LinearRegression\n",
    "from sklearn.linear_model import LogisticRegression\n",
    "import scipy.stats as stats\n",
    "import scipy\n",
    "from wordcloud import WordCloud # wordcloud"
   ]
  },
  {
   "cell_type": "markdown",
   "id": "0de84626",
   "metadata": {},
   "source": [
    "# **Dataset Amazon Top 50 Bestselling Books 2009 - 2022**\n",
    "\n",
    "\n",
    "Il dataset contiene i 50 libri best seller per anno dal 2009 al 2022\n",
    "\n",
    "Ci chiediamo quindi, per una casa editrice ad oggi cosa conviene produrre per vendere maggiormente su amazon? e con quale prezzo?\n",
    "\n",
    "Il notebook è strutturato in due punti principali:\n",
    "+ il genere preferito dall'utenza\n",
    "+ la variazione del prezzo \n",
    "\n",
    "Per prima cosa facciamo qualche operazione preliminare per conoscere meglio il dataset:"
   ]
  },
  {
   "cell_type": "code",
   "execution_count": 2,
   "id": "ff11cb1e",
   "metadata": {},
   "outputs": [
    {
     "data": {
      "text/html": [
       "<div>\n",
       "<style scoped>\n",
       "    .dataframe tbody tr th:only-of-type {\n",
       "        vertical-align: middle;\n",
       "    }\n",
       "\n",
       "    .dataframe tbody tr th {\n",
       "        vertical-align: top;\n",
       "    }\n",
       "\n",
       "    .dataframe thead th {\n",
       "        text-align: right;\n",
       "    }\n",
       "</style>\n",
       "<table border=\"1\" class=\"dataframe\">\n",
       "  <thead>\n",
       "    <tr style=\"text-align: right;\">\n",
       "      <th></th>\n",
       "      <th>Name</th>\n",
       "      <th>Author</th>\n",
       "      <th>User Rating</th>\n",
       "      <th>Reviews</th>\n",
       "      <th>Price</th>\n",
       "      <th>Year</th>\n",
       "      <th>Genre</th>\n",
       "    </tr>\n",
       "  </thead>\n",
       "  <tbody>\n",
       "    <tr>\n",
       "      <th>0</th>\n",
       "      <td>Act Like a Lady, Think Like a Man: What Men Re...</td>\n",
       "      <td>Steve Harvey</td>\n",
       "      <td>4.6</td>\n",
       "      <td>5013</td>\n",
       "      <td>17</td>\n",
       "      <td>2009</td>\n",
       "      <td>Non Fiction</td>\n",
       "    </tr>\n",
       "    <tr>\n",
       "      <th>1</th>\n",
       "      <td>Arguing with Idiots: How to Stop Small Minds a...</td>\n",
       "      <td>Glenn Beck</td>\n",
       "      <td>4.6</td>\n",
       "      <td>798</td>\n",
       "      <td>5</td>\n",
       "      <td>2009</td>\n",
       "      <td>Non Fiction</td>\n",
       "    </tr>\n",
       "    <tr>\n",
       "      <th>2</th>\n",
       "      <td>Breaking Dawn (The Twilight Saga, Book 4)</td>\n",
       "      <td>Stephenie Meyer</td>\n",
       "      <td>4.6</td>\n",
       "      <td>9769</td>\n",
       "      <td>13</td>\n",
       "      <td>2009</td>\n",
       "      <td>Fiction</td>\n",
       "    </tr>\n",
       "    <tr>\n",
       "      <th>3</th>\n",
       "      <td>Crazy Love: Overwhelmed by a Relentless God</td>\n",
       "      <td>Francis Chan</td>\n",
       "      <td>4.7</td>\n",
       "      <td>1542</td>\n",
       "      <td>14</td>\n",
       "      <td>2009</td>\n",
       "      <td>Non Fiction</td>\n",
       "    </tr>\n",
       "    <tr>\n",
       "      <th>4</th>\n",
       "      <td>Dead And Gone: A Sookie Stackhouse Novel (Sook...</td>\n",
       "      <td>Charlaine Harris</td>\n",
       "      <td>4.6</td>\n",
       "      <td>1541</td>\n",
       "      <td>4</td>\n",
       "      <td>2009</td>\n",
       "      <td>Fiction</td>\n",
       "    </tr>\n",
       "  </tbody>\n",
       "</table>\n",
       "</div>"
      ],
      "text/plain": [
       "                                                Name            Author  \\\n",
       "0  Act Like a Lady, Think Like a Man: What Men Re...      Steve Harvey   \n",
       "1  Arguing with Idiots: How to Stop Small Minds a...        Glenn Beck   \n",
       "2          Breaking Dawn (The Twilight Saga, Book 4)   Stephenie Meyer   \n",
       "3        Crazy Love: Overwhelmed by a Relentless God      Francis Chan   \n",
       "4  Dead And Gone: A Sookie Stackhouse Novel (Sook...  Charlaine Harris   \n",
       "\n",
       "   User Rating  Reviews  Price  Year        Genre  \n",
       "0          4.6     5013     17  2009  Non Fiction  \n",
       "1          4.6      798      5  2009  Non Fiction  \n",
       "2          4.6     9769     13  2009      Fiction  \n",
       "3          4.7     1542     14  2009  Non Fiction  \n",
       "4          4.6     1541      4  2009      Fiction  "
      ]
     },
     "execution_count": 2,
     "metadata": {},
     "output_type": "execute_result"
    }
   ],
   "source": [
    "book = pd.read_csv('bestsellers.csv') \n",
    "book.head()"
   ]
  },
  {
   "cell_type": "markdown",
   "id": "5588bf16",
   "metadata": {},
   "source": [
    "Da una lettura preliminare del dataset attraverso la funzione head possiamo già capire che si potrà lavorare ad esempio sul campo \"genre\" che assume solo due tipi (fiction e non fiction) e capirne la correlazione con gli anni, le valutazioni ecc. ecc."
   ]
  },
  {
   "cell_type": "markdown",
   "id": "cc3bc89e",
   "metadata": {},
   "source": [
    "##### Ragioniamo adesso sul significato di ogni colonna e sul loro livello\n",
    "\n",
    "- *Name*: il nome del libro (qualitativo)\n",
    "- *Author*: l'autore del libro (qualitativo)\n",
    "- *User Rating*: il punteggio di ogni libro\n",
    "- *Reviews*: il numero di recensioni di quel determinato libro (corrisponde indirettamente a copie vendute)\n",
    "- *Price*: prezzo del libro\n",
    "- *Year*: anno di pubblicazione del libro\n",
    "- *Genre*: genere del libro (valore \"booleano\")"
   ]
  },
  {
   "cell_type": "markdown",
   "id": "e1ee49ec",
   "metadata": {},
   "source": [
    "Estraiamo informazioni di base sul nostro dataset."
   ]
  },
  {
   "cell_type": "code",
   "execution_count": 3,
   "id": "f5b3641e",
   "metadata": {},
   "outputs": [
    {
     "data": {
      "text/html": [
       "<div>\n",
       "<style scoped>\n",
       "    .dataframe tbody tr th:only-of-type {\n",
       "        vertical-align: middle;\n",
       "    }\n",
       "\n",
       "    .dataframe tbody tr th {\n",
       "        vertical-align: top;\n",
       "    }\n",
       "\n",
       "    .dataframe thead th {\n",
       "        text-align: right;\n",
       "    }\n",
       "</style>\n",
       "<table border=\"1\" class=\"dataframe\">\n",
       "  <thead>\n",
       "    <tr style=\"text-align: right;\">\n",
       "      <th></th>\n",
       "      <th>User Rating</th>\n",
       "      <th>Reviews</th>\n",
       "      <th>Price</th>\n",
       "      <th>Year</th>\n",
       "    </tr>\n",
       "  </thead>\n",
       "  <tbody>\n",
       "    <tr>\n",
       "      <th>count</th>\n",
       "      <td>700.000000</td>\n",
       "      <td>700.000000</td>\n",
       "      <td>700.000000</td>\n",
       "      <td>700.000000</td>\n",
       "    </tr>\n",
       "    <tr>\n",
       "      <th>mean</th>\n",
       "      <td>4.639857</td>\n",
       "      <td>19255.195714</td>\n",
       "      <td>12.700000</td>\n",
       "      <td>2015.500000</td>\n",
       "    </tr>\n",
       "    <tr>\n",
       "      <th>std</th>\n",
       "      <td>0.218586</td>\n",
       "      <td>23613.443875</td>\n",
       "      <td>9.915162</td>\n",
       "      <td>4.034011</td>\n",
       "    </tr>\n",
       "    <tr>\n",
       "      <th>min</th>\n",
       "      <td>3.300000</td>\n",
       "      <td>37.000000</td>\n",
       "      <td>0.000000</td>\n",
       "      <td>2009.000000</td>\n",
       "    </tr>\n",
       "    <tr>\n",
       "      <th>25%</th>\n",
       "      <td>4.500000</td>\n",
       "      <td>4987.250000</td>\n",
       "      <td>7.000000</td>\n",
       "      <td>2012.000000</td>\n",
       "    </tr>\n",
       "    <tr>\n",
       "      <th>50%</th>\n",
       "      <td>4.700000</td>\n",
       "      <td>10284.000000</td>\n",
       "      <td>11.000000</td>\n",
       "      <td>2015.500000</td>\n",
       "    </tr>\n",
       "    <tr>\n",
       "      <th>75%</th>\n",
       "      <td>4.800000</td>\n",
       "      <td>23358.000000</td>\n",
       "      <td>15.000000</td>\n",
       "      <td>2019.000000</td>\n",
       "    </tr>\n",
       "    <tr>\n",
       "      <th>max</th>\n",
       "      <td>4.900000</td>\n",
       "      <td>208917.000000</td>\n",
       "      <td>105.000000</td>\n",
       "      <td>2022.000000</td>\n",
       "    </tr>\n",
       "  </tbody>\n",
       "</table>\n",
       "</div>"
      ],
      "text/plain": [
       "       User Rating        Reviews       Price         Year\n",
       "count   700.000000     700.000000  700.000000   700.000000\n",
       "mean      4.639857   19255.195714   12.700000  2015.500000\n",
       "std       0.218586   23613.443875    9.915162     4.034011\n",
       "min       3.300000      37.000000    0.000000  2009.000000\n",
       "25%       4.500000    4987.250000    7.000000  2012.000000\n",
       "50%       4.700000   10284.000000   11.000000  2015.500000\n",
       "75%       4.800000   23358.000000   15.000000  2019.000000\n",
       "max       4.900000  208917.000000  105.000000  2022.000000"
      ]
     },
     "execution_count": 3,
     "metadata": {},
     "output_type": "execute_result"
    }
   ],
   "source": [
    "book.describe()"
   ]
  },
  {
   "cell_type": "markdown",
   "id": "2ccacfb5",
   "metadata": {},
   "source": [
    "Attraverso la funzione describe ci accorgiamo ad esempio che il libro più costoso è di 105 euro ma ce ne sono anche altri gratis, cosa che potrebbe essere dovuta ad un riempimento automatico del dataset oppure il libro in una sua edizione è effettivamente gratis"
   ]
  },
  {
   "cell_type": "markdown",
   "id": "7c466fc5",
   "metadata": {},
   "source": [
    "Controllo se ci sono colonne con elementi vuoti, come vedremo non ci sono e quindi non dovrò eseguire funzioni di riempimento automatico"
   ]
  },
  {
   "cell_type": "code",
   "execution_count": 4,
   "id": "c2426fcf",
   "metadata": {},
   "outputs": [
    {
     "data": {
      "text/plain": [
       "Name           0\n",
       "Author         0\n",
       "User Rating    0\n",
       "Reviews        0\n",
       "Price          0\n",
       "Year           0\n",
       "Genre          0\n",
       "dtype: int64"
      ]
     },
     "execution_count": 4,
     "metadata": {},
     "output_type": "execute_result"
    }
   ],
   "source": [
    "book.isnull().sum()"
   ]
  },
  {
   "cell_type": "markdown",
   "id": "2fb527af",
   "metadata": {},
   "source": [
    "quanti dati e quante caratteristiche abbiamo a disposizione?"
   ]
  },
  {
   "cell_type": "code",
   "execution_count": 5,
   "id": "081fbcdb",
   "metadata": {},
   "outputs": [
    {
     "data": {
      "text/plain": [
       "(700, 7)"
      ]
     },
     "execution_count": 5,
     "metadata": {},
     "output_type": "execute_result"
    }
   ],
   "source": [
    "book.shape"
   ]
  },
  {
   "cell_type": "markdown",
   "id": "c369cb65",
   "metadata": {},
   "source": [
    "Dall'output della funzione shape capiamo che le colonne sono 7 (informazione già conosciuta) e che il numero di righe e cioè libri nel dataset è 700\n",
    "\n",
    "Tutte le caratteristiche sono abbastanza significative, anche quelle qualitative come il nome e l'autore e quindi non credo sia necessario eliminare delle colonne"
   ]
  },
  {
   "cell_type": "markdown",
   "id": "adae3bd1",
   "metadata": {},
   "source": [
    "Adesso controlliamo che non ci siano elementi duplicati nel nostro dataset:"
   ]
  },
  {
   "cell_type": "code",
   "execution_count": 6,
   "id": "bf5ef577",
   "metadata": {},
   "outputs": [
    {
     "data": {
      "text/plain": [
       "count                                                   700\n",
       "unique                                                  441\n",
       "top       Publication Manual of the American Psychologic...\n",
       "freq                                                     10\n",
       "Name: Name, dtype: object"
      ]
     },
     "execution_count": 6,
     "metadata": {},
     "output_type": "execute_result"
    }
   ],
   "source": [
    "book['Name'].describe()"
   ]
  },
  {
   "cell_type": "markdown",
   "id": "f93a77de",
   "metadata": {},
   "source": [
    "Come possiamo vedere sono presenti numerosi libri duplicati nel nostro dataset, per il fatto che un libro è stato bestseller per più anni, o ci sono state diverse edizioni dello stesso libro\n",
    "\n",
    "Dei nostri 700 elementi solo 441 sono singoli"
   ]
  },
  {
   "cell_type": "code",
   "execution_count": 7,
   "id": "08c79fe9",
   "metadata": {},
   "outputs": [],
   "source": [
    "duplicate_book = book['Name'].describe()['top']\n",
    "book_is_duplicate = book['Name'] == duplicate_book"
   ]
  },
  {
   "cell_type": "code",
   "execution_count": 8,
   "id": "333940a8",
   "metadata": {},
   "outputs": [
    {
     "data": {
      "text/html": [
       "<div>\n",
       "<style scoped>\n",
       "    .dataframe tbody tr th:only-of-type {\n",
       "        vertical-align: middle;\n",
       "    }\n",
       "\n",
       "    .dataframe tbody tr th {\n",
       "        vertical-align: top;\n",
       "    }\n",
       "\n",
       "    .dataframe thead th {\n",
       "        text-align: right;\n",
       "    }\n",
       "</style>\n",
       "<table border=\"1\" class=\"dataframe\">\n",
       "  <thead>\n",
       "    <tr style=\"text-align: right;\">\n",
       "      <th></th>\n",
       "      <th>Name</th>\n",
       "      <th>Author</th>\n",
       "      <th>User Rating</th>\n",
       "      <th>Reviews</th>\n",
       "      <th>Price</th>\n",
       "      <th>Year</th>\n",
       "      <th>Genre</th>\n",
       "    </tr>\n",
       "  </thead>\n",
       "  <tbody>\n",
       "    <tr>\n",
       "      <th>22</th>\n",
       "      <td>Publication Manual of the American Psychologic...</td>\n",
       "      <td>American Psychological Association</td>\n",
       "      <td>4.5</td>\n",
       "      <td>8580</td>\n",
       "      <td>46</td>\n",
       "      <td>2009</td>\n",
       "      <td>Non Fiction</td>\n",
       "    </tr>\n",
       "    <tr>\n",
       "      <th>70</th>\n",
       "      <td>Publication Manual of the American Psychologic...</td>\n",
       "      <td>American Psychological Association</td>\n",
       "      <td>4.5</td>\n",
       "      <td>8580</td>\n",
       "      <td>46</td>\n",
       "      <td>2010</td>\n",
       "      <td>Non Fiction</td>\n",
       "    </tr>\n",
       "    <tr>\n",
       "      <th>120</th>\n",
       "      <td>Publication Manual of the American Psychologic...</td>\n",
       "      <td>American Psychological Association</td>\n",
       "      <td>4.5</td>\n",
       "      <td>8580</td>\n",
       "      <td>46</td>\n",
       "      <td>2011</td>\n",
       "      <td>Non Fiction</td>\n",
       "    </tr>\n",
       "    <tr>\n",
       "      <th>170</th>\n",
       "      <td>Publication Manual of the American Psychologic...</td>\n",
       "      <td>American Psychological Association</td>\n",
       "      <td>4.5</td>\n",
       "      <td>8580</td>\n",
       "      <td>46</td>\n",
       "      <td>2012</td>\n",
       "      <td>Non Fiction</td>\n",
       "    </tr>\n",
       "    <tr>\n",
       "      <th>225</th>\n",
       "      <td>Publication Manual of the American Psychologic...</td>\n",
       "      <td>American Psychological Association</td>\n",
       "      <td>4.5</td>\n",
       "      <td>8580</td>\n",
       "      <td>46</td>\n",
       "      <td>2013</td>\n",
       "      <td>Non Fiction</td>\n",
       "    </tr>\n",
       "    <tr>\n",
       "      <th>276</th>\n",
       "      <td>Publication Manual of the American Psychologic...</td>\n",
       "      <td>American Psychological Association</td>\n",
       "      <td>4.5</td>\n",
       "      <td>8580</td>\n",
       "      <td>46</td>\n",
       "      <td>2014</td>\n",
       "      <td>Non Fiction</td>\n",
       "    </tr>\n",
       "    <tr>\n",
       "      <th>329</th>\n",
       "      <td>Publication Manual of the American Psychologic...</td>\n",
       "      <td>American Psychological Association</td>\n",
       "      <td>4.5</td>\n",
       "      <td>8580</td>\n",
       "      <td>46</td>\n",
       "      <td>2015</td>\n",
       "      <td>Non Fiction</td>\n",
       "    </tr>\n",
       "    <tr>\n",
       "      <th>379</th>\n",
       "      <td>Publication Manual of the American Psychologic...</td>\n",
       "      <td>American Psychological Association</td>\n",
       "      <td>4.5</td>\n",
       "      <td>8580</td>\n",
       "      <td>46</td>\n",
       "      <td>2016</td>\n",
       "      <td>Non Fiction</td>\n",
       "    </tr>\n",
       "    <tr>\n",
       "      <th>425</th>\n",
       "      <td>Publication Manual of the American Psychologic...</td>\n",
       "      <td>American Psychological Association</td>\n",
       "      <td>4.5</td>\n",
       "      <td>8580</td>\n",
       "      <td>46</td>\n",
       "      <td>2017</td>\n",
       "      <td>Non Fiction</td>\n",
       "    </tr>\n",
       "    <tr>\n",
       "      <th>479</th>\n",
       "      <td>Publication Manual of the American Psychologic...</td>\n",
       "      <td>American Psychological Association</td>\n",
       "      <td>4.5</td>\n",
       "      <td>8580</td>\n",
       "      <td>46</td>\n",
       "      <td>2018</td>\n",
       "      <td>Non Fiction</td>\n",
       "    </tr>\n",
       "  </tbody>\n",
       "</table>\n",
       "</div>"
      ],
      "text/plain": [
       "                                                  Name  \\\n",
       "22   Publication Manual of the American Psychologic...   \n",
       "70   Publication Manual of the American Psychologic...   \n",
       "120  Publication Manual of the American Psychologic...   \n",
       "170  Publication Manual of the American Psychologic...   \n",
       "225  Publication Manual of the American Psychologic...   \n",
       "276  Publication Manual of the American Psychologic...   \n",
       "329  Publication Manual of the American Psychologic...   \n",
       "379  Publication Manual of the American Psychologic...   \n",
       "425  Publication Manual of the American Psychologic...   \n",
       "479  Publication Manual of the American Psychologic...   \n",
       "\n",
       "                                 Author  User Rating  Reviews  Price  Year  \\\n",
       "22   American Psychological Association          4.5     8580     46  2009   \n",
       "70   American Psychological Association          4.5     8580     46  2010   \n",
       "120  American Psychological Association          4.5     8580     46  2011   \n",
       "170  American Psychological Association          4.5     8580     46  2012   \n",
       "225  American Psychological Association          4.5     8580     46  2013   \n",
       "276  American Psychological Association          4.5     8580     46  2014   \n",
       "329  American Psychological Association          4.5     8580     46  2015   \n",
       "379  American Psychological Association          4.5     8580     46  2016   \n",
       "425  American Psychological Association          4.5     8580     46  2017   \n",
       "479  American Psychological Association          4.5     8580     46  2018   \n",
       "\n",
       "           Genre  \n",
       "22   Non Fiction  \n",
       "70   Non Fiction  \n",
       "120  Non Fiction  \n",
       "170  Non Fiction  \n",
       "225  Non Fiction  \n",
       "276  Non Fiction  \n",
       "329  Non Fiction  \n",
       "379  Non Fiction  \n",
       "425  Non Fiction  \n",
       "479  Non Fiction  "
      ]
     },
     "execution_count": 8,
     "metadata": {},
     "output_type": "execute_result"
    }
   ],
   "source": [
    "filtered_dataframe = book[book_is_duplicate]\n",
    "filtered_dataframe"
   ]
  },
  {
   "cell_type": "markdown",
   "id": "26be069d",
   "metadata": {},
   "source": [
    "Ad esempio questo libro della American Psycological Association è presente ben 10 volte nel dataset, perchè è stato best seller per molti anni consecutivi"
   ]
  },
  {
   "cell_type": "markdown",
   "id": "a50d811e",
   "metadata": {},
   "source": [
    "Adesso calcoliamo la correlazione tra le feature quantitative del nostro dataset:"
   ]
  },
  {
   "cell_type": "code",
   "execution_count": 9,
   "id": "875daa16",
   "metadata": {},
   "outputs": [
    {
     "data": {
      "text/html": [
       "<div>\n",
       "<style scoped>\n",
       "    .dataframe tbody tr th:only-of-type {\n",
       "        vertical-align: middle;\n",
       "    }\n",
       "\n",
       "    .dataframe tbody tr th {\n",
       "        vertical-align: top;\n",
       "    }\n",
       "\n",
       "    .dataframe thead th {\n",
       "        text-align: right;\n",
       "    }\n",
       "</style>\n",
       "<table border=\"1\" class=\"dataframe\">\n",
       "  <thead>\n",
       "    <tr style=\"text-align: right;\">\n",
       "      <th></th>\n",
       "      <th>User Rating</th>\n",
       "      <th>Reviews</th>\n",
       "      <th>Price</th>\n",
       "      <th>Year</th>\n",
       "    </tr>\n",
       "  </thead>\n",
       "  <tbody>\n",
       "    <tr>\n",
       "      <th>User Rating</th>\n",
       "      <td>1.000000</td>\n",
       "      <td>0.080423</td>\n",
       "      <td>-0.157253</td>\n",
       "      <td>0.286601</td>\n",
       "    </tr>\n",
       "    <tr>\n",
       "      <th>Reviews</th>\n",
       "      <td>0.080423</td>\n",
       "      <td>1.000000</td>\n",
       "      <td>-0.114554</td>\n",
       "      <td>0.494279</td>\n",
       "    </tr>\n",
       "    <tr>\n",
       "      <th>Price</th>\n",
       "      <td>-0.157253</td>\n",
       "      <td>-0.114554</td>\n",
       "      <td>1.000000</td>\n",
       "      <td>-0.155266</td>\n",
       "    </tr>\n",
       "    <tr>\n",
       "      <th>Year</th>\n",
       "      <td>0.286601</td>\n",
       "      <td>0.494279</td>\n",
       "      <td>-0.155266</td>\n",
       "      <td>1.000000</td>\n",
       "    </tr>\n",
       "  </tbody>\n",
       "</table>\n",
       "</div>"
      ],
      "text/plain": [
       "             User Rating   Reviews     Price      Year\n",
       "User Rating     1.000000  0.080423 -0.157253  0.286601\n",
       "Reviews         0.080423  1.000000 -0.114554  0.494279\n",
       "Price          -0.157253 -0.114554  1.000000 -0.155266\n",
       "Year            0.286601  0.494279 -0.155266  1.000000"
      ]
     },
     "execution_count": 9,
     "metadata": {},
     "output_type": "execute_result"
    }
   ],
   "source": [
    "book.corr(method='pearson')"
   ]
  },
  {
   "cell_type": "markdown",
   "id": "9c51a712",
   "metadata": {},
   "source": [
    "La correlazione tra dati che si nota maggiormente è quella Reviewes - Year.\n",
    "\n",
    "Vale la pena quindi capire cosa è successo per far si che la correlazione sia di 0.5"
   ]
  },
  {
   "cell_type": "markdown",
   "id": "5a5a43f2",
   "metadata": {},
   "source": [
    "Applicando un semplice grafico lineare si può vedere come proprio tra il 2019 e il 2020 c'è stato un vertiginoso inalzamento delle reviews"
   ]
  },
  {
   "cell_type": "code",
   "execution_count": 10,
   "id": "6172a7d9",
   "metadata": {},
   "outputs": [
    {
     "name": "stdout",
     "output_type": "stream",
     "text": [
      "    Year   Reviews\n",
      "0   2009   4710.12\n",
      "1   2010   5479.62\n",
      "2   2011   8100.82\n",
      "3   2012  13090.92\n",
      "4   2013  13098.14\n",
      "5   2014  15859.94\n",
      "6   2015  14233.38\n",
      "7   2016  14196.00\n",
      "8   2017  12888.40\n",
      "9   2018  13930.42\n",
      "10  2019  15898.34\n",
      "11  2020  52349.94\n",
      "12  2021  44859.48\n",
      "13  2022  40877.22\n"
     ]
    }
   ],
   "source": [
    "annual_reviews = book.groupby('Year')[['Reviews']].mean().sort_values('Year', ascending=True).reset_index()\n",
    "print(annual_reviews)"
   ]
  },
  {
   "cell_type": "code",
   "execution_count": 11,
   "id": "3df29d2c",
   "metadata": {},
   "outputs": [
    {
     "data": {
      "image/png": "[encoded data removed]",
      "text/plain": [
       "<Figure size 432x288 with 1 Axes>"
      ]
     },
     "metadata": {
      "needs_background": "light"
     },
     "output_type": "display_data"
    }
   ],
   "source": [
    "fig, ax = plt.subplots()\n",
    "plt.plot(annual_reviews['Year'], annual_reviews['Reviews'])\n",
    "plt.title(\"Reviews medie negli anni\")\n",
    "plt.ylabel(\"Reviews\")\n",
    "plt.xlabel(\"Years\")\n",
    "ax.spines['right'].set_visible(False)\n",
    "ax.spines['top'].set_visible(False)\n",
    "plt.show()"
   ]
  },
  {
   "cell_type": "code",
   "execution_count": 12,
   "id": "3c08aa21",
   "metadata": {},
   "outputs": [
    {
     "data": {
      "text/plain": [
       "<AxesSubplot:title={'center':'Reviews medie negli anni'}, xlabel='Year', ylabel='Reviews'>"
      ]
     },
     "execution_count": 12,
     "metadata": {},
     "output_type": "execute_result"
    },
    {
     "data": {
      "image/png": "[encoded data removed]",
      "text/plain": [
       "<Figure size 432x288 with 1 Axes>"
      ]
     },
     "metadata": {
      "needs_background": "light"
     },
     "output_type": "display_data"
    }
   ],
   "source": [
    "book.plot(kind= 'scatter', x= 'Year', y= 'Reviews', title= 'Reviews medie negli anni', alpha= 0.2)"
   ]
  },
  {
   "cell_type": "markdown",
   "id": "a738bba8",
   "metadata": {},
   "source": [
    "Questo è un chiaro esempio di come la pandemia ha effettivamente cambiato le abitudini.\n",
    "\n",
    "A partire infatti dal 2020 c'è un aumento vertiginoso del numero di reviews, che può anche essere legato al numero di copie comprate (dato non presente purtroppo nel dataset)\n",
    "\n",
    "Come possiamo vedere nel 2019 il numero medio di reviews si aggira attorno alle 8000 mentre nel 2020 il numero medio è 42000\n",
    "\n",
    "Questo aumento è così improvviso e corposo non può essere ignorato, e deve essere sicuramente collegato ad un evento d'impatto come la pandemia.\n",
    "\n",
    "Come immaginabile infatti, con la fine del lockdown più pesante nel 2020 il numero di reviews si è, pur restando molto alto, ridimensionato"
   ]
  },
  {
   "cell_type": "markdown",
   "id": "5d80f929",
   "metadata": {},
   "source": [
    "Una volta fatte queste considerazioni possiamo affermare di aver compreso il nostro dataset e quindi può iniziare lo studio effettivo che ci porta a capire cosa conviene pubblicare ad oggi per vendere di più"
   ]
  },
  {
   "cell_type": "markdown",
   "id": "5c052d80",
   "metadata": {},
   "source": [
    "## STUDIO SUL GENERE PREFERITO"
   ]
  },
  {
   "cell_type": "code",
   "execution_count": 13,
   "id": "640e23b7",
   "metadata": {},
   "outputs": [
    {
     "data": {
      "image/png": "[encoded data removed]",
      "text/plain": [
       "<Figure size 432x288 with 1 Axes>"
      ]
     },
     "metadata": {
      "needs_background": "light"
     },
     "output_type": "display_data"
    }
   ],
   "source": [
    "counts = book[\"Genre\"].value_counts()\n",
    "plt.bar(counts.index,counts.values)\n",
    "plt.title(\"Distribuzione dei due Generi\")\n",
    "plt.ylabel(\"Number of BestSellers\")\n",
    "plt.xlabel(\"Genre\")\n",
    "plt.show()"
   ]
  },
  {
   "cell_type": "code",
   "execution_count": 14,
   "id": "beed6817",
   "metadata": {},
   "outputs": [
    {
     "data": {
      "text/plain": [
       "([<matplotlib.patches.Wedge at 0x7f83af483370>,\n",
       "  <matplotlib.patches.Wedge at 0x7f83af483a90>],\n",
       " [Text(-0.1866898666921769, 1.0840419243158714, 'Fiction'),\n",
       "  Text(0.18668986669217674, -1.0840419243158714, 'Non Fiction')],\n",
       " [Text(-0.10183083637755103, 0.5912955950813843, '55.4%'),\n",
       "  Text(0.10183083637755094, -0.5912955950813843, '44.6%')])"
      ]
     },
     "execution_count": 14,
     "metadata": {},
     "output_type": "execute_result"
    },
    {
     "data": {
      "image/png": "[encoded data removed]",
      "text/plain": [
       "<Figure size 432x288 with 1 Axes>"
      ]
     },
     "metadata": {},
     "output_type": "display_data"
    }
   ],
   "source": [
    "plt.pie(book['Genre'].value_counts(),labels=['Fiction','Non Fiction'],autopct='%.1f%%')"
   ]
  },
  {
   "cell_type": "markdown",
   "id": "2a51332e",
   "metadata": {},
   "source": [
    "Come possiamo vedere dai grafici c'è una predominanza (anche se leggera) del genere \"Non Fiction\" rispetto a quello fiction"
   ]
  },
  {
   "cell_type": "code",
   "execution_count": 15,
   "id": "0f874a60",
   "metadata": {},
   "outputs": [
    {
     "data": {
      "text/plain": [
       "[Text(0.5, 1.0, 'genre distribution')]"
      ]
     },
     "execution_count": 15,
     "metadata": {},
     "output_type": "execute_result"
    },
    {
     "data": {
      "image/png": "[encoded data removed]",
      "text/plain": [
       "<Figure size 864x432 with 1 Axes>"
      ]
     },
     "metadata": {
      "needs_background": "light"
     },
     "output_type": "display_data"
    }
   ],
   "source": [
    "df=book.groupby(['Genre', 'Year']).size().reset_index(name='NumberOfBestsellers')\n",
    "plt.figure(figsize=(12, 6))\n",
    "sns.barplot(x='Year', y='NumberOfBestsellers', hue='Genre', data=df).set(title='genre distribution')"
   ]
  },
  {
   "cell_type": "markdown",
   "id": "588794be",
   "metadata": {},
   "source": [
    "Attraverso la libreria seaborn possiamo vedere come c'è una distribuzione abbastanza casuale dei due generi nei diversi anni anche se quello \"non fiction\" predomina quasi sempre\n",
    "\n",
    "Negli ultimi anni c'è stata una \"risalita\" del genere \"fiction\" ma non è per forza collegato alla pandemia visto che anche in altri anni (2014) c'era stata una predominanza dei libri \"fiction\""
   ]
  },
  {
   "cell_type": "markdown",
   "id": "150da879",
   "metadata": {},
   "source": [
    "Come possiamo notare dall'ultimo grafico in tutti gli anni c'è stata una predominanza del genere fiction a discapito di quello \"non Fiction\" ad eccezione del 2014.\n",
    "\n",
    "Andiamo quindi a vedere cosa è successo in quell'anno."
   ]
  },
  {
   "cell_type": "code",
   "execution_count": 16,
   "id": "9aae8577",
   "metadata": {
    "scrolled": false
   },
   "outputs": [
    {
     "data": {
      "text/html": [
       "<div>\n",
       "<style scoped>\n",
       "    .dataframe tbody tr th:only-of-type {\n",
       "        vertical-align: middle;\n",
       "    }\n",
       "\n",
       "    .dataframe tbody tr th {\n",
       "        vertical-align: top;\n",
       "    }\n",
       "\n",
       "    .dataframe thead th {\n",
       "        text-align: right;\n",
       "    }\n",
       "</style>\n",
       "<table border=\"1\" class=\"dataframe\">\n",
       "  <thead>\n",
       "    <tr style=\"text-align: right;\">\n",
       "      <th></th>\n",
       "      <th>Name</th>\n",
       "      <th>Author</th>\n",
       "      <th>User Rating</th>\n",
       "      <th>Reviews</th>\n",
       "      <th>Price</th>\n",
       "      <th>Year</th>\n",
       "      <th>Genre</th>\n",
       "    </tr>\n",
       "  </thead>\n",
       "  <tbody>\n",
       "    <tr>\n",
       "      <th>250</th>\n",
       "      <td>A Game of Thrones / A Clash of Kings / A Storm...</td>\n",
       "      <td>George R. R. Martin</td>\n",
       "      <td>4.7</td>\n",
       "      <td>19735</td>\n",
       "      <td>30</td>\n",
       "      <td>2014</td>\n",
       "      <td>Fiction</td>\n",
       "    </tr>\n",
       "    <tr>\n",
       "      <th>251</th>\n",
       "      <td>All the Light We Cannot See</td>\n",
       "      <td>Anthony Doerr</td>\n",
       "      <td>4.6</td>\n",
       "      <td>36348</td>\n",
       "      <td>14</td>\n",
       "      <td>2014</td>\n",
       "      <td>Fiction</td>\n",
       "    </tr>\n",
       "    <tr>\n",
       "      <th>254</th>\n",
       "      <td>Diary of a Wimpy Kid: The Long Haul</td>\n",
       "      <td>Jeff Kinney</td>\n",
       "      <td>4.8</td>\n",
       "      <td>6540</td>\n",
       "      <td>22</td>\n",
       "      <td>2014</td>\n",
       "      <td>Fiction</td>\n",
       "    </tr>\n",
       "    <tr>\n",
       "      <th>255</th>\n",
       "      <td>Divergent</td>\n",
       "      <td>Veronica Roth</td>\n",
       "      <td>4.6</td>\n",
       "      <td>27098</td>\n",
       "      <td>15</td>\n",
       "      <td>2014</td>\n",
       "      <td>Fiction</td>\n",
       "    </tr>\n",
       "    <tr>\n",
       "      <th>256</th>\n",
       "      <td>Divergent / Insurgent</td>\n",
       "      <td>Veronica Roth</td>\n",
       "      <td>4.5</td>\n",
       "      <td>17684</td>\n",
       "      <td>6</td>\n",
       "      <td>2014</td>\n",
       "      <td>Fiction</td>\n",
       "    </tr>\n",
       "    <tr>\n",
       "      <th>258</th>\n",
       "      <td>Frozen (Little Golden Book)</td>\n",
       "      <td>RH Disney</td>\n",
       "      <td>4.7</td>\n",
       "      <td>3642</td>\n",
       "      <td>0</td>\n",
       "      <td>2014</td>\n",
       "      <td>Fiction</td>\n",
       "    </tr>\n",
       "    <tr>\n",
       "      <th>259</th>\n",
       "      <td>Gone Girl</td>\n",
       "      <td>Gillian Flynn</td>\n",
       "      <td>4.0</td>\n",
       "      <td>57271</td>\n",
       "      <td>9</td>\n",
       "      <td>2014</td>\n",
       "      <td>Fiction</td>\n",
       "    </tr>\n",
       "    <tr>\n",
       "      <th>263</th>\n",
       "      <td>If I Stay</td>\n",
       "      <td>Gayle Forman</td>\n",
       "      <td>4.3</td>\n",
       "      <td>7153</td>\n",
       "      <td>9</td>\n",
       "      <td>2014</td>\n",
       "      <td>Fiction</td>\n",
       "    </tr>\n",
       "    <tr>\n",
       "      <th>265</th>\n",
       "      <td>JOURNEY TO THE ICE P</td>\n",
       "      <td>RH Disney</td>\n",
       "      <td>4.6</td>\n",
       "      <td>978</td>\n",
       "      <td>0</td>\n",
       "      <td>2014</td>\n",
       "      <td>Fiction</td>\n",
       "    </tr>\n",
       "    <tr>\n",
       "      <th>269</th>\n",
       "      <td>Little Blue Truck</td>\n",
       "      <td>Alice Schertle</td>\n",
       "      <td>4.9</td>\n",
       "      <td>1884</td>\n",
       "      <td>0</td>\n",
       "      <td>2014</td>\n",
       "      <td>Fiction</td>\n",
       "    </tr>\n",
       "    <tr>\n",
       "      <th>270</th>\n",
       "      <td>Looking for Alaska</td>\n",
       "      <td>John Green</td>\n",
       "      <td>4.5</td>\n",
       "      <td>8491</td>\n",
       "      <td>7</td>\n",
       "      <td>2014</td>\n",
       "      <td>Fiction</td>\n",
       "    </tr>\n",
       "    <tr>\n",
       "      <th>271</th>\n",
       "      <td>Love You Forever</td>\n",
       "      <td>Robert Munsch</td>\n",
       "      <td>4.8</td>\n",
       "      <td>18613</td>\n",
       "      <td>5</td>\n",
       "      <td>2014</td>\n",
       "      <td>Fiction</td>\n",
       "    </tr>\n",
       "    <tr>\n",
       "      <th>274</th>\n",
       "      <td>Oh, the Places You'll Go!</td>\n",
       "      <td>Dr. Seuss</td>\n",
       "      <td>4.9</td>\n",
       "      <td>21834</td>\n",
       "      <td>8</td>\n",
       "      <td>2014</td>\n",
       "      <td>Fiction</td>\n",
       "    </tr>\n",
       "    <tr>\n",
       "      <th>275</th>\n",
       "      <td>Orphan Train</td>\n",
       "      <td>Christina Baker Kline</td>\n",
       "      <td>4.6</td>\n",
       "      <td>21930</td>\n",
       "      <td>11</td>\n",
       "      <td>2014</td>\n",
       "      <td>Fiction</td>\n",
       "    </tr>\n",
       "    <tr>\n",
       "      <th>277</th>\n",
       "      <td>Rush Revere and the First Patriots: Time-Trave...</td>\n",
       "      <td>Rush Limbaugh</td>\n",
       "      <td>4.9</td>\n",
       "      <td>3836</td>\n",
       "      <td>12</td>\n",
       "      <td>2014</td>\n",
       "      <td>Fiction</td>\n",
       "    </tr>\n",
       "    <tr>\n",
       "      <th>280</th>\n",
       "      <td>The Alchemist</td>\n",
       "      <td>Paulo Coelho</td>\n",
       "      <td>4.7</td>\n",
       "      <td>35799</td>\n",
       "      <td>39</td>\n",
       "      <td>2014</td>\n",
       "      <td>Fiction</td>\n",
       "    </tr>\n",
       "    <tr>\n",
       "      <th>281</th>\n",
       "      <td>The Blood of Olympus (The Heroes of Olympus (5))</td>\n",
       "      <td>Rick Riordan</td>\n",
       "      <td>4.8</td>\n",
       "      <td>6600</td>\n",
       "      <td>11</td>\n",
       "      <td>2014</td>\n",
       "      <td>Fiction</td>\n",
       "    </tr>\n",
       "    <tr>\n",
       "      <th>282</th>\n",
       "      <td>The Book Thief</td>\n",
       "      <td>Markus Zusak</td>\n",
       "      <td>4.6</td>\n",
       "      <td>23148</td>\n",
       "      <td>6</td>\n",
       "      <td>2014</td>\n",
       "      <td>Fiction</td>\n",
       "    </tr>\n",
       "    <tr>\n",
       "      <th>283</th>\n",
       "      <td>The Book with No Pictures</td>\n",
       "      <td>B. J. Novak</td>\n",
       "      <td>4.8</td>\n",
       "      <td>8081</td>\n",
       "      <td>8</td>\n",
       "      <td>2014</td>\n",
       "      <td>Fiction</td>\n",
       "    </tr>\n",
       "    <tr>\n",
       "      <th>285</th>\n",
       "      <td>The Day the Crayons Quit</td>\n",
       "      <td>Drew Daywalt</td>\n",
       "      <td>4.8</td>\n",
       "      <td>8922</td>\n",
       "      <td>9</td>\n",
       "      <td>2014</td>\n",
       "      <td>Fiction</td>\n",
       "    </tr>\n",
       "    <tr>\n",
       "      <th>286</th>\n",
       "      <td>The Fault in Our Stars</td>\n",
       "      <td>John Green</td>\n",
       "      <td>4.7</td>\n",
       "      <td>50482</td>\n",
       "      <td>7</td>\n",
       "      <td>2014</td>\n",
       "      <td>Fiction</td>\n",
       "    </tr>\n",
       "    <tr>\n",
       "      <th>287</th>\n",
       "      <td>The Fault in Our Stars</td>\n",
       "      <td>John Green</td>\n",
       "      <td>4.7</td>\n",
       "      <td>50482</td>\n",
       "      <td>13</td>\n",
       "      <td>2014</td>\n",
       "      <td>Fiction</td>\n",
       "    </tr>\n",
       "    <tr>\n",
       "      <th>288</th>\n",
       "      <td>The Goldfinch: A Novel (Pulitzer Prize for Fic...</td>\n",
       "      <td>Donna Tartt</td>\n",
       "      <td>3.9</td>\n",
       "      <td>33844</td>\n",
       "      <td>20</td>\n",
       "      <td>2014</td>\n",
       "      <td>Fiction</td>\n",
       "    </tr>\n",
       "    <tr>\n",
       "      <th>289</th>\n",
       "      <td>The Great Gatsby</td>\n",
       "      <td>F. Scott Fitzgerald</td>\n",
       "      <td>4.4</td>\n",
       "      <td>11616</td>\n",
       "      <td>7</td>\n",
       "      <td>2014</td>\n",
       "      <td>Fiction</td>\n",
       "    </tr>\n",
       "    <tr>\n",
       "      <th>290</th>\n",
       "      <td>The Maze Runner (Book 1)</td>\n",
       "      <td>James Dashner</td>\n",
       "      <td>4.5</td>\n",
       "      <td>10101</td>\n",
       "      <td>8</td>\n",
       "      <td>2014</td>\n",
       "      <td>Fiction</td>\n",
       "    </tr>\n",
       "    <tr>\n",
       "      <th>292</th>\n",
       "      <td>The Very Hungry Caterpillar</td>\n",
       "      <td>Eric Carle</td>\n",
       "      <td>4.9</td>\n",
       "      <td>19546</td>\n",
       "      <td>5</td>\n",
       "      <td>2014</td>\n",
       "      <td>Fiction</td>\n",
       "    </tr>\n",
       "    <tr>\n",
       "      <th>294</th>\n",
       "      <td>To Kill a Mockingbird</td>\n",
       "      <td>Harper Lee</td>\n",
       "      <td>4.8</td>\n",
       "      <td>26234</td>\n",
       "      <td>0</td>\n",
       "      <td>2014</td>\n",
       "      <td>Fiction</td>\n",
       "    </tr>\n",
       "    <tr>\n",
       "      <th>295</th>\n",
       "      <td>Ultimate Sticker Book: Frozen: More Than 60 Re...</td>\n",
       "      <td>DK</td>\n",
       "      <td>4.5</td>\n",
       "      <td>2586</td>\n",
       "      <td>5</td>\n",
       "      <td>2014</td>\n",
       "      <td>Fiction</td>\n",
       "    </tr>\n",
       "    <tr>\n",
       "      <th>299</th>\n",
       "      <td>Wonder</td>\n",
       "      <td>R. J. Palacio</td>\n",
       "      <td>4.8</td>\n",
       "      <td>21625</td>\n",
       "      <td>9</td>\n",
       "      <td>2014</td>\n",
       "      <td>Fiction</td>\n",
       "    </tr>\n",
       "  </tbody>\n",
       "</table>\n",
       "</div>"
      ],
      "text/plain": [
       "                                                  Name                 Author  \\\n",
       "250  A Game of Thrones / A Clash of Kings / A Storm...    George R. R. Martin   \n",
       "251                        All the Light We Cannot See          Anthony Doerr   \n",
       "254                Diary of a Wimpy Kid: The Long Haul            Jeff Kinney   \n",
       "255                                          Divergent          Veronica Roth   \n",
       "256                              Divergent / Insurgent          Veronica Roth   \n",
       "258                        Frozen (Little Golden Book)              RH Disney   \n",
       "259                                          Gone Girl          Gillian Flynn   \n",
       "263                                          If I Stay           Gayle Forman   \n",
       "265                               JOURNEY TO THE ICE P              RH Disney   \n",
       "269                                  Little Blue Truck         Alice Schertle   \n",
       "270                                 Looking for Alaska             John Green   \n",
       "271                                   Love You Forever          Robert Munsch   \n",
       "274                          Oh, the Places You'll Go!              Dr. Seuss   \n",
       "275                                       Orphan Train  Christina Baker Kline   \n",
       "277  Rush Revere and the First Patriots: Time-Trave...          Rush Limbaugh   \n",
       "280                                      The Alchemist           Paulo Coelho   \n",
       "281   The Blood of Olympus (The Heroes of Olympus (5))           Rick Riordan   \n",
       "282                                     The Book Thief           Markus Zusak   \n",
       "283                          The Book with No Pictures            B. J. Novak   \n",
       "285                           The Day the Crayons Quit           Drew Daywalt   \n",
       "286                             The Fault in Our Stars             John Green   \n",
       "287                             The Fault in Our Stars             John Green   \n",
       "288  The Goldfinch: A Novel (Pulitzer Prize for Fic...            Donna Tartt   \n",
       "289                                   The Great Gatsby    F. Scott Fitzgerald   \n",
       "290                           The Maze Runner (Book 1)          James Dashner   \n",
       "292                        The Very Hungry Caterpillar             Eric Carle   \n",
       "294                              To Kill a Mockingbird             Harper Lee   \n",
       "295  Ultimate Sticker Book: Frozen: More Than 60 Re...                     DK   \n",
       "299                                             Wonder          R. J. Palacio   \n",
       "\n",
       "     User Rating  Reviews  Price  Year    Genre  \n",
       "250          4.7    19735     30  2014  Fiction  \n",
       "251          4.6    36348     14  2014  Fiction  \n",
       "254          4.8     6540     22  2014  Fiction  \n",
       "255          4.6    27098     15  2014  Fiction  \n",
       "256          4.5    17684      6  2014  Fiction  \n",
       "258          4.7     3642      0  2014  Fiction  \n",
       "259          4.0    57271      9  2014  Fiction  \n",
       "263          4.3     7153      9  2014  Fiction  \n",
       "265          4.6      978      0  2014  Fiction  \n",
       "269          4.9     1884      0  2014  Fiction  \n",
       "270          4.5     8491      7  2014  Fiction  \n",
       "271          4.8    18613      5  2014  Fiction  \n",
       "274          4.9    21834      8  2014  Fiction  \n",
       "275          4.6    21930     11  2014  Fiction  \n",
       "277          4.9     3836     12  2014  Fiction  \n",
       "280          4.7    35799     39  2014  Fiction  \n",
       "281          4.8     6600     11  2014  Fiction  \n",
       "282          4.6    23148      6  2014  Fiction  \n",
       "283          4.8     8081      8  2014  Fiction  \n",
       "285          4.8     8922      9  2014  Fiction  \n",
       "286          4.7    50482      7  2014  Fiction  \n",
       "287          4.7    50482     13  2014  Fiction  \n",
       "288          3.9    33844     20  2014  Fiction  \n",
       "289          4.4    11616      7  2014  Fiction  \n",
       "290          4.5    10101      8  2014  Fiction  \n",
       "292          4.9    19546      5  2014  Fiction  \n",
       "294          4.8    26234      0  2014  Fiction  \n",
       "295          4.5     2586      5  2014  Fiction  \n",
       "299          4.8    21625      9  2014  Fiction  "
      ]
     },
     "execution_count": 16,
     "metadata": {},
     "output_type": "execute_result"
    }
   ],
   "source": [
    "Year_2014 = book[book[\"Year\"] == 2014]\n",
    "Fiction_2014 = Year_2014[Year_2014[\"Genre\"]==\"Fiction\"]\n",
    "Fiction_2014"
   ]
  },
  {
   "cell_type": "markdown",
   "id": "254cb1c7",
   "metadata": {},
   "source": [
    "Come possiamo vedere nel 2014 i libri Fiction sono stati molti più di quelli non Fiction.\n",
    "\n",
    "In quell'anno del resto sono stati venduti su amazon romanzi di narrativa sia per ragazzi sia per adulti molto famosi ancora oggi."
   ]
  },
  {
   "cell_type": "markdown",
   "id": "61df9638",
   "metadata": {},
   "source": [
    "Guardiamo adesso le reviews e il rating in base al genere."
   ]
  },
  {
   "cell_type": "code",
   "execution_count": 17,
   "id": "93859091",
   "metadata": {},
   "outputs": [
    {
     "data": {
      "text/html": [
       "<div>\n",
       "<style scoped>\n",
       "    .dataframe tbody tr th:only-of-type {\n",
       "        vertical-align: middle;\n",
       "    }\n",
       "\n",
       "    .dataframe tbody tr th {\n",
       "        vertical-align: top;\n",
       "    }\n",
       "\n",
       "    .dataframe thead th {\n",
       "        text-align: right;\n",
       "    }\n",
       "</style>\n",
       "<table border=\"1\" class=\"dataframe\">\n",
       "  <thead>\n",
       "    <tr style=\"text-align: right;\">\n",
       "      <th></th>\n",
       "      <th>Genre</th>\n",
       "      <th>Reviews</th>\n",
       "    </tr>\n",
       "  </thead>\n",
       "  <tbody>\n",
       "    <tr>\n",
       "      <th>0</th>\n",
       "      <td>Fiction</td>\n",
       "      <td>24034.105769</td>\n",
       "    </tr>\n",
       "    <tr>\n",
       "      <th>1</th>\n",
       "      <td>Non Fiction</td>\n",
       "      <td>15412.360825</td>\n",
       "    </tr>\n",
       "  </tbody>\n",
       "</table>\n",
       "</div>"
      ],
      "text/plain": [
       "         Genre       Reviews\n",
       "0      Fiction  24034.105769\n",
       "1  Non Fiction  15412.360825"
      ]
     },
     "execution_count": 17,
     "metadata": {},
     "output_type": "execute_result"
    }
   ],
   "source": [
    "book.groupby('Genre')[['Reviews']].mean().reset_index()"
   ]
  },
  {
   "cell_type": "markdown",
   "id": "3e10f6bd",
   "metadata": {},
   "source": [
    "Il numero di reviews medio dei libri Fiction è nettamente maggiore e come già detto in precedenza questo potrebbe essere strettamente collegato al numero di copie vendute.\n",
    "Potrebbero quindi esserci un numero minore di bestseller di tipo fiction ma con più copie vendute o comunque con più fan che hanno deciso di lasciare una recensione oltre che a comprare il libro"
   ]
  },
  {
   "cell_type": "code",
   "execution_count": 18,
   "id": "bff75420",
   "metadata": {},
   "outputs": [
    {
     "data": {
      "text/html": [
       "<div>\n",
       "<style scoped>\n",
       "    .dataframe tbody tr th:only-of-type {\n",
       "        vertical-align: middle;\n",
       "    }\n",
       "\n",
       "    .dataframe tbody tr th {\n",
       "        vertical-align: top;\n",
       "    }\n",
       "\n",
       "    .dataframe thead th {\n",
       "        text-align: right;\n",
       "    }\n",
       "</style>\n",
       "<table border=\"1\" class=\"dataframe\">\n",
       "  <thead>\n",
       "    <tr style=\"text-align: right;\">\n",
       "      <th></th>\n",
       "      <th>Genre</th>\n",
       "      <th>User Rating</th>\n",
       "    </tr>\n",
       "  </thead>\n",
       "  <tbody>\n",
       "    <tr>\n",
       "      <th>0</th>\n",
       "      <td>Fiction</td>\n",
       "      <td>4.664103</td>\n",
       "    </tr>\n",
       "    <tr>\n",
       "      <th>1</th>\n",
       "      <td>Non Fiction</td>\n",
       "      <td>4.620361</td>\n",
       "    </tr>\n",
       "  </tbody>\n",
       "</table>\n",
       "</div>"
      ],
      "text/plain": [
       "         Genre  User Rating\n",
       "0      Fiction     4.664103\n",
       "1  Non Fiction     4.620361"
      ]
     },
     "execution_count": 18,
     "metadata": {},
     "output_type": "execute_result"
    }
   ],
   "source": [
    "book.groupby('Genre')[['User Rating']].mean().reset_index()"
   ]
  },
  {
   "cell_type": "markdown",
   "id": "84b9f2ab",
   "metadata": {},
   "source": [
    "A differenza del numero di reviews l'user rating non sembra differire più di tanto"
   ]
  },
  {
   "cell_type": "markdown",
   "id": "68fbe413",
   "metadata": {},
   "source": [
    "## STUDIO DEL PREZZO"
   ]
  },
  {
   "cell_type": "code",
   "execution_count": 19,
   "id": "d5afbf5f",
   "metadata": {},
   "outputs": [
    {
     "name": "stdout",
     "output_type": "stream",
     "text": [
      "    Year  Price\n",
      "0   2009  15.40\n",
      "1   2010  13.48\n",
      "2   2011  15.10\n",
      "3   2012  15.30\n",
      "4   2013  14.60\n",
      "5   2014  14.64\n",
      "6   2015  10.42\n",
      "7   2016  13.18\n",
      "8   2017  11.38\n",
      "9   2018  10.52\n",
      "10  2019  10.08\n",
      "11  2020  10.46\n",
      "12  2021  10.78\n",
      "13  2022  12.46\n"
     ]
    }
   ],
   "source": [
    "annual_price = book.groupby('Year')[['Price']].mean().sort_values('Year', ascending=True).reset_index()\n",
    "print(annual_price)"
   ]
  },
  {
   "cell_type": "code",
   "execution_count": 20,
   "id": "1a924695",
   "metadata": {},
   "outputs": [
    {
     "data": {
      "image/png": "[encoded data removed]",
      "text/plain": [
       "<Figure size 432x288 with 1 Axes>"
      ]
     },
     "metadata": {
      "needs_background": "light"
     },
     "output_type": "display_data"
    }
   ],
   "source": [
    "fig, ax = plt.subplots()\n",
    "plt.plot(annual_price['Year'], annual_price['Price'])\n",
    "plt.title(\"Distribuzione dei Prezzi\")\n",
    "plt.ylabel(\"Price\")\n",
    "plt.xlabel(\"Year\")\n",
    "ax.spines['right'].set_visible(False)\n",
    "ax.spines['top'].set_visible(False)\n",
    "plt.show()"
   ]
  },
  {
   "cell_type": "markdown",
   "id": "f754f5eb",
   "metadata": {},
   "source": [
    "Come si nota dal grafico il prezzo è molto variabile ma con una tendenza ad un prezzo più alto negli anni precedenti al 2014"
   ]
  },
  {
   "cell_type": "code",
   "execution_count": 21,
   "id": "02088716",
   "metadata": {},
   "outputs": [
    {
     "data": {
      "text/plain": [
       "<AxesSubplot:title={'center':'Price'}, xlabel='Year'>"
      ]
     },
     "execution_count": 21,
     "metadata": {},
     "output_type": "execute_result"
    },
    {
     "data": {
      "image/png": "[encoded data removed]",
      "text/plain": [
       "<Figure size 432x288 with 1 Axes>"
      ]
     },
     "metadata": {
      "needs_background": "light"
     },
     "output_type": "display_data"
    }
   ],
   "source": [
    "book.boxplot(column='Price', by='Year', vert = False)"
   ]
  },
  {
   "cell_type": "markdown",
   "id": "df8f1702",
   "metadata": {},
   "source": [
    "Utilizzando anche un grafico boxplot vediamo come il range di prezzo è maggiore dal 2009 al 2014 per poi stabilizzarsi senza avere gap di prezzo troppo elevati"
   ]
  },
  {
   "cell_type": "markdown",
   "id": "b94afae7",
   "metadata": {},
   "source": [
    "Una volta fatte queste considerazioni preliminari sul prezzo dei bestSeller capiamo la cosa più importante, ovvero se il genere incide su di esso:"
   ]
  },
  {
   "cell_type": "markdown",
   "id": "0e6db644",
   "metadata": {},
   "source": [
    "Per far ciò applichiamo un T-Test"
   ]
  },
  {
   "cell_type": "markdown",
   "id": "f7e31aee",
   "metadata": {},
   "source": [
    "Possiamo confermare quanto appena detto attraverso un T-test:\n",
    "\n",
    "H0: i libri \"Non Fiction\" costano di più rispetto a quelli \"Fiction\"\n",
    "\n",
    "H1:i libri \"Non Fiction\" costano di meno rispetto a quelli \"Fiction\""
   ]
  },
  {
   "cell_type": "code",
   "execution_count": 22,
   "id": "091f5e95",
   "metadata": {},
   "outputs": [
    {
     "name": "stdout",
     "output_type": "stream",
     "text": [
      "Libri fiction: 312\n",
      "Libri Non Fiction: 388\n",
      "un campione di prezzo dalla categoria fiction: (30,)\n",
      "Prezzo medio del campione Fiction: 14.133333333333333\n",
      "un campione dalla categoria Non Fiction: (30,)\n",
      "Prezzo medio del campione Non Fiction: 14.7\n"
     ]
    }
   ],
   "source": [
    "Fiction_book = np.where(book['Genre']==\"Fiction\")[0]\n",
    "print(\"Libri fiction: \" + str(len(Fiction_book)))\n",
    "Nfiction_book = np.where(book['Genre']==\"Non Fiction\")[0]\n",
    "print(\"Libri Non Fiction: \" + str(len(Nfiction_book)))\n",
    "campione_fict = book['Price'][Fiction_book].values[0:30].astype(int)\n",
    "print(\"un campione di prezzo dalla categoria fiction: \" + str(campione_fict.shape))\n",
    "print(\"Prezzo medio del campione Fiction: \" + str(np.mean(campione_fict)))\n",
    "campione_nfict = book['Price'][Nfiction_book].values[0:30].astype(int)\n",
    "print(\"un campione dalla categoria Non Fiction: \" + str(campione_nfict.shape))\n",
    "print(\"Prezzo medio del campione Non Fiction: \" + str(np.mean(campione_nfict)))"
   ]
  },
  {
   "cell_type": "code",
   "execution_count": 23,
   "id": "4489bc37",
   "metadata": {
    "scrolled": true
   },
   "outputs": [
    {
     "name": "stdout",
     "output_type": "stream",
     "text": [
      "-0.20745116462509727\n",
      "0.8371074320095055\n"
     ]
    }
   ],
   "source": [
    "t_statistic, p_value = stats.ttest_1samp(a= campione_fict, popmean= campione_nfict.mean(), alternative='two-sided')\n",
    "print(t_statistic)\n",
    "print(p_value)"
   ]
  },
  {
   "cell_type": "markdown",
   "id": "a5195ec7",
   "metadata": {},
   "source": [
    "Usando sempre lo stesso intervallo di confidenza dello 0.95 vediamo come il livello di significatività è più basso del p-value e per questo posso accettare l'ipotesi H0: i libri Non Fiction costano di più"
   ]
  },
  {
   "cell_type": "markdown",
   "id": "395bf177",
   "metadata": {},
   "source": [
    "Possiamo dimostrare l'affidabilità di questo T-test con delle semplici funzioni:"
   ]
  },
  {
   "cell_type": "code",
   "execution_count": 24,
   "id": "7e46be9a",
   "metadata": {},
   "outputs": [
    {
     "data": {
      "text/html": [
       "<div>\n",
       "<style scoped>\n",
       "    .dataframe tbody tr th:only-of-type {\n",
       "        vertical-align: middle;\n",
       "    }\n",
       "\n",
       "    .dataframe tbody tr th {\n",
       "        vertical-align: top;\n",
       "    }\n",
       "\n",
       "    .dataframe thead th {\n",
       "        text-align: right;\n",
       "    }\n",
       "</style>\n",
       "<table border=\"1\" class=\"dataframe\">\n",
       "  <thead>\n",
       "    <tr style=\"text-align: right;\">\n",
       "      <th></th>\n",
       "      <th>Genre</th>\n",
       "      <th>Price</th>\n",
       "    </tr>\n",
       "  </thead>\n",
       "  <tbody>\n",
       "    <tr>\n",
       "      <th>0</th>\n",
       "      <td>Fiction</td>\n",
       "      <td>10.663462</td>\n",
       "    </tr>\n",
       "    <tr>\n",
       "      <th>1</th>\n",
       "      <td>Non Fiction</td>\n",
       "      <td>14.337629</td>\n",
       "    </tr>\n",
       "  </tbody>\n",
       "</table>\n",
       "</div>"
      ],
      "text/plain": [
       "         Genre      Price\n",
       "0      Fiction  10.663462\n",
       "1  Non Fiction  14.337629"
      ]
     },
     "execution_count": 24,
     "metadata": {},
     "output_type": "execute_result"
    }
   ],
   "source": [
    "book.groupby('Genre')[['Price']].mean().reset_index()"
   ]
  },
  {
   "cell_type": "markdown",
   "id": "791d0725",
   "metadata": {},
   "source": [
    "Il prezzo dei libri \"Non Fiction\" è più alto rispetto a quelli Fiction"
   ]
  },
  {
   "cell_type": "code",
   "execution_count": 25,
   "id": "9064ee90",
   "metadata": {},
   "outputs": [
    {
     "data": {
      "text/plain": [
       "<AxesSubplot:xlabel='Year', ylabel='Price'>"
      ]
     },
     "execution_count": 25,
     "metadata": {},
     "output_type": "execute_result"
    },
    {
     "data": {
      "image/png": "[encoded data removed]",
      "text/plain": [
       "<Figure size 864x432 with 1 Axes>"
      ]
     },
     "metadata": {
      "needs_background": "light"
     },
     "output_type": "display_data"
    }
   ],
   "source": [
    "plt.figure(figsize=(12,6))\n",
    "sns.barplot(data=book, x='Year', y='Price', hue='Genre')"
   ]
  },
  {
   "cell_type": "markdown",
   "id": "cce07cbf",
   "metadata": {},
   "source": [
    "Utilizzando la libreria seaborn che offre grafici molto precisi possiamo vedere come il prezzo dei libri \"non fiction\" è solitamente più alto rispetto a quello dei libri Fiction in ogni anno"
   ]
  },
  {
   "cell_type": "markdown",
   "id": "4bacedd8",
   "metadata": {},
   "source": [
    "Adesso vediamo, attraverso la libreria sklearn, come il prezzo potrebbe variare negli anni a venire prendendo come dati per la predizione quelli che abbiamo degli anni precedenti"
   ]
  },
  {
   "cell_type": "code",
   "execution_count": 26,
   "id": "c9c63fe9",
   "metadata": {},
   "outputs": [
    {
     "data": {
      "text/plain": [
       "<matplotlib.collections.PathCollection at 0x7f83af4160e0>"
      ]
     },
     "execution_count": 26,
     "metadata": {},
     "output_type": "execute_result"
    },
    {
     "data": {
      "image/png": "[encoded data removed]",
      "text/plain": [
       "<Figure size 432x288 with 1 Axes>"
      ]
     },
     "metadata": {
      "needs_background": "light"
     },
     "output_type": "display_data"
    }
   ],
   "source": [
    "features = ['Year'] \n",
    "x=book[features]\n",
    "y=book['Price']\n",
    "plt.scatter(x, y, color='blue', alpha= 0.2)"
   ]
  },
  {
   "cell_type": "markdown",
   "id": "8b0b320a",
   "metadata": {},
   "source": [
    "Dividiamo i dati in training e test con la funzione apposita di sklean:"
   ]
  },
  {
   "cell_type": "code",
   "execution_count": 27,
   "id": "2c7116a5",
   "metadata": {},
   "outputs": [],
   "source": [
    "X_train, X_valid, y_train, y_valid = train_test_split(book.Year, book.Price, test_size=0.3)"
   ]
  },
  {
   "cell_type": "code",
   "execution_count": 28,
   "id": "cf507f72",
   "metadata": {},
   "outputs": [
    {
     "data": {
      "image/png": "[encoded data removed]",
      "text/plain": [
       "<Figure size 432x288 with 1 Axes>"
      ]
     },
     "metadata": {
      "needs_background": "light"
     },
     "output_type": "display_data"
    }
   ],
   "source": [
    "plt.scatter(X_train,y_train, label='Training data', color = 'r', alpha=0.2)\n",
    "plt.scatter(X_valid,y_valid, label='Valid data', color = 'g', alpha=0.2)\n",
    "plt.legend()\n",
    "plt.show()"
   ]
  },
  {
   "cell_type": "markdown",
   "id": "9f027e67",
   "metadata": {},
   "source": [
    "Una volta ottenuti i dati possiamo allenare l'oggetto di regressione lineare istanziato con il trainig set."
   ]
  },
  {
   "cell_type": "code",
   "execution_count": 29,
   "id": "d119cfb5",
   "metadata": {},
   "outputs": [],
   "source": [
    "regressor = LinearRegression()\n",
    "lin_reg = regressor.fit(X_train.values.reshape(-1,1), y_train.values)"
   ]
  },
  {
   "cell_type": "markdown",
   "id": "1b81b352",
   "metadata": {},
   "source": [
    "E infine trovare la retta di regressione lineare:"
   ]
  },
  {
   "cell_type": "code",
   "execution_count": 30,
   "id": "37f091fa",
   "metadata": {},
   "outputs": [
    {
     "data": {
      "image/png": "[encoded data removed]",
      "text/plain": [
       "<Figure size 432x288 with 1 Axes>"
      ]
     },
     "metadata": {
      "needs_background": "light"
     },
     "output_type": "display_data"
    }
   ],
   "source": [
    "prediction = lin_reg.predict(X_valid.values.reshape(-1,1))\n",
    "plt.plot(X_valid, prediction, label='linear regression', color='b')\n",
    "plt.scatter(X_valid, y_valid, label='actual test data', color='g',alpha = 0.2)\n",
    "plt.legend()\n",
    "plt.show()"
   ]
  },
  {
   "cell_type": "markdown",
   "id": "39115b31",
   "metadata": {},
   "source": [
    "Attraverso la regressione lineare di sklear possiamo vedere come il prezzo tende sempre più o meno sul valore medio di 13/14 euro ma tende a scendere lentamente negli anni"
   ]
  },
  {
   "cell_type": "code",
   "execution_count": 31,
   "id": "9c676779",
   "metadata": {},
   "outputs": [
    {
     "data": {
      "text/plain": [
       "10.022771948635523"
      ]
     },
     "execution_count": 31,
     "metadata": {},
     "output_type": "execute_result"
    }
   ],
   "source": [
    "lin_reg.predict(np.array([[2023]]))[0]"
   ]
  },
  {
   "cell_type": "markdown",
   "id": "61c42695",
   "metadata": {},
   "source": [
    "Ad esempio attraverso la funzione predict di sklear possiamo vedere come nel 2023 la media di prezzo dei best seller di amazon sarà tendente sui 9.5 euro"
   ]
  },
  {
   "cell_type": "markdown",
   "id": "15670a4e",
   "metadata": {},
   "source": [
    "Adesso utilizzo tre funzioni di sklearn per calcolare tre metriche sul modello di regressione lineare appena fatto:"
   ]
  },
  {
   "cell_type": "code",
   "execution_count": 32,
   "id": "8b7592b5",
   "metadata": {
    "scrolled": false
   },
   "outputs": [],
   "source": [
    "y_pred = regressor.predict(X_valid.values.reshape(-1,1))"
   ]
  },
  {
   "cell_type": "code",
   "execution_count": 33,
   "id": "00fb2b42",
   "metadata": {},
   "outputs": [
    {
     "name": "stdout",
     "output_type": "stream",
     "text": [
      "MAE: 6.8610818012840005\n",
      "MSE: 141.1421047808675\n",
      "RMSE: 11.880324270863465\n"
     ]
    }
   ],
   "source": [
    "print ('MAE:', metrics.mean_absolute_error(y_valid, y_pred))\n",
    "print ('MSE:', metrics.mean_squared_error(y_valid, y_pred))\n",
    "print ('RMSE:', np.sqrt(metrics.mean_squared_error(y_valid, y_pred)))"
   ]
  },
  {
   "cell_type": "markdown",
   "id": "af5d8f38",
   "metadata": {},
   "source": [
    "Determiniamo adesso il modello nullo:"
   ]
  },
  {
   "cell_type": "code",
   "execution_count": 34,
   "id": "c80fc486",
   "metadata": {},
   "outputs": [
    {
     "name": "stdout",
     "output_type": "stream",
     "text": [
      "MAE: 6.122857142857143\n",
      "MSE: 98.16999999999997\n",
      "RMSE: 9.908077512817508\n"
     ]
    }
   ],
   "source": [
    "mean_Price = book['Price'].mean()\n",
    "\n",
    "null_model_y = [mean_Price] * book.shape[0]\n",
    "\n",
    "# valutate il modello nullo usando le funzioni implementate \n",
    "print ('MAE:', metrics.mean_absolute_error(y, null_model_y))\n",
    "print ('MSE:', metrics.mean_squared_error(y, null_model_y))\n",
    "print ('RMSE:', np.sqrt(metrics.mean_squared_error(y, null_model_y)))"
   ]
  },
  {
   "cell_type": "markdown",
   "id": "fe1a80e9",
   "metadata": {},
   "source": [
    "Come possiamo vedere i valori delle metriche derivate dal nostro modello di regressione lineare sono leggermente più basse di quelle derivate dal modello nullo con la media dei valori.\n",
    "\n",
    "Per questo possiamo dire che il modello lineare è in linea di massima affidabile ma la poca differenza tra le due metriche definisce l'anno una features inadatta a stimare il prezzo di un libro."
   ]
  },
  {
   "cell_type": "code",
   "execution_count": 35,
   "id": "eb7b9c53",
   "metadata": {},
   "outputs": [
    {
     "data": {
      "text/html": [
       "<div>\n",
       "<style scoped>\n",
       "    .dataframe tbody tr th:only-of-type {\n",
       "        vertical-align: middle;\n",
       "    }\n",
       "\n",
       "    .dataframe tbody tr th {\n",
       "        vertical-align: top;\n",
       "    }\n",
       "\n",
       "    .dataframe thead th {\n",
       "        text-align: right;\n",
       "    }\n",
       "</style>\n",
       "<table border=\"1\" class=\"dataframe\">\n",
       "  <thead>\n",
       "    <tr style=\"text-align: right;\">\n",
       "      <th></th>\n",
       "      <th>Year</th>\n",
       "      <th>Price</th>\n",
       "    </tr>\n",
       "  </thead>\n",
       "  <tbody>\n",
       "    <tr>\n",
       "      <th>Year</th>\n",
       "      <td>1.000000</td>\n",
       "      <td>-0.155266</td>\n",
       "    </tr>\n",
       "    <tr>\n",
       "      <th>Price</th>\n",
       "      <td>-0.155266</td>\n",
       "      <td>1.000000</td>\n",
       "    </tr>\n",
       "  </tbody>\n",
       "</table>\n",
       "</div>"
      ],
      "text/plain": [
       "           Year     Price\n",
       "Year   1.000000 -0.155266\n",
       "Price -0.155266  1.000000"
      ]
     },
     "execution_count": 35,
     "metadata": {},
     "output_type": "execute_result"
    }
   ],
   "source": [
    "book[['Year', 'Price']].corr()"
   ]
  },
  {
   "cell_type": "markdown",
   "id": "9866e826",
   "metadata": {},
   "source": [
    "Questa informazione appena ricavata dalle metriche non è a noi nuova, infatti era già a nostra conoscenza il fatto che la correlazione tra anno e prezzo è molto bassa.\n",
    "\n",
    "Purtroppo ogni features del nostro dataset ha una pessima correlazione con il prezzo, quindi risulta difficile trovare qualcosa che permette di stimare con precisione il prezzo con un modello di regressione lineare.\n",
    "\n",
    "Possiamo comunque, attraverso la stima dell'errore RMSE, capire quale features potrebbe essere più utile per stimare il prezzo."
   ]
  },
  {
   "cell_type": "markdown",
   "id": "32343986",
   "metadata": {},
   "source": [
    "Per farlo abbiamo bisogno di un dataframe senza le colonne qualitative ovvero nome e autore."
   ]
  },
  {
   "cell_type": "code",
   "execution_count": 36,
   "id": "fde28705",
   "metadata": {},
   "outputs": [],
   "source": [
    "df = book.copy()\n",
    "df.drop(['Name', 'Author', 'Price', 'Genre'], axis=1, inplace=True)\n",
    "#df"
   ]
  },
  {
   "cell_type": "code",
   "execution_count": 37,
   "id": "f2ab46d5",
   "metadata": {},
   "outputs": [],
   "source": [
    "def RMSE (y_pred,y_true):\n",
    "\n",
    "  #codice qui\n",
    "  return np.sqrt((1/y_pred.shape[0])*np.sum((y_pred - y_true)**2))"
   ]
  },
  {
   "cell_type": "code",
   "execution_count": 38,
   "id": "0e45a334",
   "metadata": {},
   "outputs": [
    {
     "name": "stdout",
     "output_type": "stream",
     "text": [
      "RMSE: 8.170179970236385\n",
      "RMSE: 10.154698264655602\n",
      "RMSE: 9.587846771526378\n",
      "['User Rating' 'Reviews' 'Year']\n",
      "RMSE: 7.691431868397485\n"
     ]
    }
   ],
   "source": [
    "for i in range(0,df.shape[1]):\n",
    "    features = list(df.columns)[0:i+1]\n",
    "    features = df.columns[i]\n",
    "    x = df[[features]]\n",
    "    y = book['Price']\n",
    "    regressor = LinearRegression()\n",
    "    x_train, x_valid, y_train, y_valid = train_test_split(x, y)\n",
    "    lin_reg = regressor.fit(x_train, y_train)\n",
    "    y_pred = lin_reg.predict(x_valid)\n",
    "    print('RMSE:',RMSE(y_pred,y_valid))\n",
    "\n",
    "features = np.asarray(list(df.columns))[0:i+1]\n",
    "print(features)\n",
    "x = df[features]\n",
    "y = book['Price']\n",
    "regressor = LinearRegression()\n",
    "x_train, x_valid, y_train, y_valid = train_test_split(x, y)\n",
    "lin_reg = regressor.fit(x_train,y_train)\n",
    "y_pred = lin_reg.predict(x_valid)\n",
    "print('RMSE:',RMSE(y_pred,y_valid))\n"
   ]
  },
  {
   "cell_type": "markdown",
   "id": "00287f19",
   "metadata": {},
   "source": [
    "Come possiamo vedere l'errore è variabile e anche combinando diverse feature non si abbassa in maniera significativa.\n",
    "\n",
    "Come si può notare l'errore minore lo ha il test fatto con le reviews, ma questo dato ragionando non è molto significativo essendo anch'esso poco correlato con il prezzo."
   ]
  },
  {
   "cell_type": "markdown",
   "id": "ea34476a",
   "metadata": {},
   "source": [
    "In definitiva fare una regressione lineare per predire l'andamento del prezzo risulta davvero difficile per la poca correlazione che c'è tra le features"
   ]
  },
  {
   "cell_type": "markdown",
   "id": "335cbdf7",
   "metadata": {},
   "source": [
    "## CONCLUSIONI"
   ]
  },
  {
   "cell_type": "markdown",
   "id": "f93cf5c6",
   "metadata": {},
   "source": [
    "A seguito di quello appena scoperto possiamo affermare che: \n",
    "+ il genere preferito in generale è quello \"non fiction\"\n",
    "+ il prezzo consigliato per vendere un libro negli anni a venire è attorno ai 9/10 euro\n",
    "\n",
    "Quindi concludendo il nostro studio possiamo rispondere alla domanda posta all'inizio:\n",
    "Una ipotetica casa editrice considerati i best seller di amazon dal 2009 al 2022 per puntare a quella utenza dovrebbe vendere libri non di narrativa con un prezzo che si aggira attorno ai 10 euro"
   ]
  }
 ],
 "metadata": {
  "kernelspec": {
   "display_name": "Python 3 (ipykernel)",
   "language": "python",
   "name": "python3"
  },
  "language_info": {
   "codemirror_mode": {
    "name": "ipython",
    "version": 3
   },
   "file_extension": ".py",
   "mimetype": "text/x-python",
   "name": "python",
   "nbconvert_exporter": "python",
   "pygments_lexer": "ipython3",
   "version": "3.10.4"
  }
 },
 "nbformat": 4,
 "nbformat_minor": 5
}
